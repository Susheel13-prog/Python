{
 "cells": [
  {
   "cell_type": "code",
   "execution_count": 1,
   "id": "02bbf25c-de2d-41d8-ab27-516ad4721870",
   "metadata": {},
   "outputs": [
    {
     "data": {
      "text/plain": [
       "'farzan'"
      ]
     },
     "execution_count": 1,
     "metadata": {},
     "output_type": "execute_result"
    }
   ],
   "source": [
    "# 04Feb2025\n",
    "# Lab-1  Prog.-0\n",
    "\n",
    "'farzan'"
   ]
  },
  {
   "cell_type": "code",
   "execution_count": 9,
   "id": "acd1aade-3121-4549-aacc-9270620b55fc",
   "metadata": {},
   "outputs": [
    {
     "data": {
      "text/plain": [
       "'syed'"
      ]
     },
     "execution_count": 9,
     "metadata": {},
     "output_type": "execute_result"
    }
   ],
   "source": [
    "\"syed\""
   ]
  },
  {
   "cell_type": "code",
   "execution_count": 7,
   "id": "13cc4f5e-e6f5-4097-806f-042dccaf923e",
   "metadata": {},
   "outputs": [
    {
     "name": "stdout",
     "output_type": "stream",
     "text": [
      "farzan\n"
     ]
    }
   ],
   "source": [
    "print('farzan')"
   ]
  },
  {
   "cell_type": "code",
   "execution_count": 8,
   "id": "f6e30704-87c0-4fba-98ff-245e1932e5ce",
   "metadata": {},
   "outputs": [
    {
     "name": "stdout",
     "output_type": "stream",
     "text": [
      "farzan\n"
     ]
    }
   ],
   "source": [
    "print(\"farzan\")"
   ]
  },
  {
   "cell_type": "code",
   "execution_count": 10,
   "id": "db1b01df-e2fd-4400-a38f-777a2a28ed1b",
   "metadata": {},
   "outputs": [
    {
     "name": "stdout",
     "output_type": "stream",
     "text": [
      "farzan\n",
      "farzan\n"
     ]
    }
   ],
   "source": [
    "print('farzan')\n",
    "print(\"farzan\")"
   ]
  },
  {
   "cell_type": "code",
   "execution_count": 15,
   "id": "15760a5d-9fdb-4553-9be2-c6f491d48253",
   "metadata": {},
   "outputs": [
    {
     "name": "stdout",
     "output_type": "stream",
     "text": [
      "4\n"
     ]
    }
   ],
   "source": [
    "a = 4\n",
    "print(a)"
   ]
  },
  {
   "cell_type": "code",
   "execution_count": null,
   "id": "9e5dfada-dbb0-40a7-a651-c4a6e6748872",
   "metadata": {},
   "outputs": [],
   "source": [
    "Expression in  python\n",
    "Function in-built & user function\n",
    "inbuilt Structure: \n",
    "String, List, Dictionary"
   ]
  },
  {
   "cell_type": "code",
   "execution_count": 2,
   "id": "5d166a0e-9064-4ed2-84fd-d7eef9ca7d1e",
   "metadata": {},
   "outputs": [
    {
     "name": "stdout",
     "output_type": "stream",
     "text": [
      "15\n",
      "-3\n",
      "54\n",
      "0.6666666666666666\n",
      "0\n",
      "6\n",
      "10077696\n",
      "15\n",
      "0\n",
      "15\n"
     ]
    }
   ],
   "source": [
    "a=6\n",
    "b=9\n",
    "print(a+b)\n",
    "print(a-b)\n",
    "print(a*b)\n",
    "print(a/b)\n",
    "print(a//b) #integer divison\n",
    "print(a%b)\n",
    "print(a**b) # power\n",
    "print(a^b) # xor\n",
    "print(a&b) # and\n",
    "print(a|b) # or\n",
    "#polymorphic operator(*)\n"
   ]
  },
  {
   "cell_type": "code",
   "execution_count": 1,
   "id": "812f5ecf-4a3d-4cb2-af0e-dee391c4c640",
   "metadata": {},
   "outputs": [
    {
     "name": "stdout",
     "output_type": "stream",
     "text": [
      "Help on built-in function len in module builtins:\n",
      "\n",
      "len(obj, /)\n",
      "    Return the number of items in a container.\n",
      "\n",
      "None\n"
     ]
    }
   ],
   "source": [
    "# help - tells the operation of a built-in func.\n",
    "print(help('len'))"
   ]
  },
  {
   "cell_type": "code",
   "execution_count": null,
   "id": "ca476359-c65f-437d-9fb0-eacd8732b8db",
   "metadata": {},
   "outputs": [],
   "source": [
    "print(help('builtins'))"
   ]
  },
  {
   "cell_type": "code",
   "execution_count": 3,
   "id": "5ceab441-fc7a-403f-a6b7-8d3bdf1c87de",
   "metadata": {},
   "outputs": [
    {
     "name": "stdout",
     "output_type": "stream",
     "text": [
      "0\n",
      "1\n",
      "2\n",
      "Loop completed!\n"
     ]
    }
   ],
   "source": [
    "# Example with `else`\n",
    "for i in range(3):\n",
    "    print(i)\n",
    "else:\n",
    "    print(\"Loop completed!\")\n"
   ]
  },
  {
   "cell_type": "code",
   "execution_count": null,
   "id": "bfeb6e3e-b3ec-4d54-9314-d9ceb8b915a4",
   "metadata": {},
   "outputs": [],
   "source": []
  },
  {
   "cell_type": "code",
   "execution_count": 2,
   "id": "65bb178f-a7bc-4b5d-8deb-53ee4751087f",
   "metadata": {},
   "outputs": [],
   "source": [
    "# 6th Feb"
   ]
  },
  {
   "cell_type": "code",
   "execution_count": 4,
   "id": "2e875df9-839a-4aed-a478-6a45bfb4bfdc",
   "metadata": {},
   "outputs": [
    {
     "name": "stdout",
     "output_type": "stream",
     "text": [
      "A is greater\n"
     ]
    }
   ],
   "source": [
    "# If condition\n",
    "a=5\n",
    "b=3\n",
    "c=2\n",
    "\n",
    "if a>b:\n",
    "    print('A is greater')   "
   ]
  },
  {
   "cell_type": "code",
   "execution_count": 20,
   "id": "30df87eb-5c7e-4e4f-8eb5-e9731bf33b64",
   "metadata": {},
   "outputs": [
    {
     "name": "stdout",
     "output_type": "stream",
     "text": [
      "B is greater\n",
      "End of program\n"
     ]
    }
   ],
   "source": [
    "# If-else condition\n",
    "a=5\n",
    "b=7\n",
    "c=2\n",
    "\n",
    "if a>b:\n",
    "    print('A is greater')\n",
    "else:\n",
    "    print('B is greater')\n",
    "print('End of program')"
   ]
  },
  {
   "cell_type": "code",
   "execution_count": 18,
   "id": "e7686729-a6f4-4abd-9b92-4d8d1264ec44",
   "metadata": {},
   "outputs": [
    {
     "name": "stdout",
     "output_type": "stream",
     "text": [
      "C is greater\n",
      "End of program\n"
     ]
    }
   ],
   "source": [
    "# If-else ladder(elif)\n",
    "a=5\n",
    "b=5\n",
    "c=10\n",
    "\n",
    "if a>b:\n",
    "    print('A is greater')\n",
    "elif a<b:\n",
    "    print('B is greater')\n",
    "else:\n",
    "    print('C is greater')\n",
    "print('End of program')"
   ]
  },
  {
   "cell_type": "code",
   "execution_count": 1,
   "id": "e289a478-de7b-47ab-9b45-6d60fb25576c",
   "metadata": {},
   "outputs": [
    {
     "name": "stdout",
     "output_type": "stream",
     "text": [
      "A is greatest\n",
      "End of program\n"
     ]
    }
   ],
   "source": [
    "# find the greatest of a, b, c\n",
    "a=20\n",
    "b=6\n",
    "c=10\n",
    "\n",
    "if a>b and a>c:\n",
    "    print('A is greatest')\n",
    "elif b>\n",
    "    print('B is greatest')\n",
    "else:\n",
    "    print('C is greatest')\n",
    "print('End of program')"
   ]
  },
  {
   "cell_type": "code",
   "execution_count": 28,
   "id": "2ab4f0bd-b45f-4caf-a62c-c8ea6c8b4198",
   "metadata": {},
   "outputs": [
    {
     "name": "stdin",
     "output_type": "stream",
     "text": [
      "Enter a no. 23\n"
     ]
    },
    {
     "name": "stdout",
     "output_type": "stream",
     "text": [
      "<class 'int'>\n",
      "\n"
     ]
    },
    {
     "name": "stdin",
     "output_type": "stream",
     "text": [
      "Enter a No. 23\n"
     ]
    },
    {
     "name": "stdout",
     "output_type": "stream",
     "text": [
      "Odd\n"
     ]
    }
   ],
   "source": [
    "# 05Feb2025\n",
    "# Lab-2  Prog.-1\n",
    "\n",
    "i = input('Enter a no.')\n",
    "a = int(i)\n",
    "print(type(a))\n",
    "print()\n",
    "\n",
    "#1) Even or Odd\n",
    "\n",
    "a = int(input('Enter a No.'))\n",
    "if a%2 == 0:\n",
    "    print('Even')\n",
    "else:\n",
    "    print('Odd')"
   ]
  },
  {
   "cell_type": "code",
   "execution_count": 33,
   "id": "4bf931bf-b07a-4d0b-b67b-41286bba6980",
   "metadata": {},
   "outputs": [
    {
     "name": "stdin",
     "output_type": "stream",
     "text": [
      "Enter a no. 12\n"
     ]
    },
    {
     "name": "stdout",
     "output_type": "stream",
     "text": [
      "<class 'int'>\n",
      "\n"
     ]
    }
   ],
   "source": [
    "i = input('Enter a no.')\n",
    "a = int(i)\n",
    "print(type(a))\n",
    "print()"
   ]
  },
  {
   "cell_type": "code",
   "execution_count": 83,
   "id": "7c9fae76-d48d-4cd6-878f-fbac308e2508",
   "metadata": {},
   "outputs": [
    {
     "name": "stdout",
     "output_type": "stream",
     "text": [
      "8\n",
      "7\n"
     ]
    }
   ],
   "source": [
    "# for Loop\n",
    "# print i = range of 0 - 50 & print i\n",
    "count_even = 0\n",
    "count_odd = 0\n",
    "for i in range(0, 15):\n",
    "    if i%2 == 0:\n",
    "        count_even += 1\n",
    "    else:\n",
    "        count_odd += 1\n",
    "\n",
    "print(count_even)\n",
    "print(count_odd)\n",
    "    "
   ]
  },
  {
   "cell_type": "code",
   "execution_count": 91,
   "id": "155c6def-07fd-4b02-af79-9d14a07ad4dd",
   "metadata": {},
   "outputs": [
    {
     "name": "stdout",
     "output_type": "stream",
     "text": [
      "50\n"
     ]
    }
   ],
   "source": [
    "# given a range(50, 200, 3). How many ele. are there in range\n",
    "\n",
    "count = 0\n",
    "for i in range(50, 200, 3):\n",
    "    count += 1\n",
    "\n",
    "print(count)"
   ]
  },
  {
   "cell_type": "code",
   "execution_count": 99,
   "id": "3294da95-f6c3-419e-ae86-c276f23b8770",
   "metadata": {},
   "outputs": [
    {
     "name": "stdout",
     "output_type": "stream",
     "text": [
      "25\n",
      "23\n",
      "21\n",
      "19\n",
      "17\n",
      "15\n",
      "13\n",
      "11\n"
     ]
    }
   ],
   "source": [
    "# for Loop(decrement)\n",
    "\n",
    "for i in range(25, 10, -2):\n",
    "    print(i)"
   ]
  },
  {
   "cell_type": "code",
   "execution_count": 86,
   "id": "05b87c7c-e1bc-461e-8b96-74055afaea96",
   "metadata": {},
   "outputs": [
    {
     "name": "stdout",
     "output_type": "stream",
     "text": [
      "25\n",
      "25\n"
     ]
    }
   ],
   "source": [
    "# given a range(50, 200, 3). How many ele. are there in range\n",
    "\n",
    "e_count = 0\n",
    "o_count = 0\n",
    "for i in range(50, 200, 3):\n",
    "    if i%2 == 0:\n",
    "        e_count += 1\n",
    "    else:\n",
    "        o_count += 1\n",
    "\n",
    "print(e_count)\n",
    "print(o_count)"
   ]
  },
  {
   "cell_type": "code",
   "execution_count": 87,
   "id": "a6360e95-b504-4ace-be2c-41883970348a",
   "metadata": {},
   "outputs": [
    {
     "name": "stdout",
     "output_type": "stream",
     "text": [
      "50\n"
     ]
    }
   ],
   "source": [
    "# in-built function\n",
    "\n",
    "print(len(range(50, 200, 3)))"
   ]
  },
  {
   "cell_type": "code",
   "execution_count": 3,
   "id": "70108c9a-6749-46a7-86bf-0529caccaff3",
   "metadata": {},
   "outputs": [
    {
     "name": "stdout",
     "output_type": "stream",
     "text": [
      "0\n",
      "1\n",
      "2\n",
      "3\n",
      "4\n"
     ]
    }
   ],
   "source": [
    "#while Loop\n",
    "\n",
    "i=0\n",
    "while i<5:\n",
    "    print(i)\n",
    "    i += 1"
   ]
  },
  {
   "cell_type": "code",
   "execution_count": 2,
   "id": "60dbdb3c-18c5-452e-9526-32b4664bfe5d",
   "metadata": {},
   "outputs": [
    {
     "name": "stdin",
     "output_type": "stream",
     "text": [
      "Enter age:  1\n",
      "Enter age:  12\n",
      "Enter age:  19\n"
     ]
    },
    {
     "name": "stdout",
     "output_type": "stream",
     "text": [
      "eligible\n"
     ]
    }
   ],
   "source": [
    "age = int(input('Enter age: '))\n",
    "while(age):\n",
    "    if(age<18):\n",
    "        age = int(input('Enter age: '))\n",
    "    else:\n",
    "        print('eligible')\n",
    "        break"
   ]
  },
  {
   "cell_type": "code",
   "execution_count": 3,
   "id": "4788a035-3ca0-4816-85b5-54507fc716bf",
   "metadata": {},
   "outputs": [
    {
     "name": "stdout",
     "output_type": "stream",
     "text": [
      "1\n",
      "2\n",
      "3\n",
      "4\n",
      "5\n",
      "6\n",
      "7\n",
      "8\n",
      "9\n"
     ]
    }
   ],
   "source": [
    "# Integers using while loop\n",
    "\n",
    "i=1\n",
    "while(i<10):\n",
    "    print(i)\n",
    "    i += 1"
   ]
  },
  {
   "cell_type": "code",
   "execution_count": 77,
   "id": "e8338259-0c55-4e90-b1c5-286c7f877b12",
   "metadata": {},
   "outputs": [],
   "source": [
    "# 11th Feb"
   ]
  },
  {
   "cell_type": "code",
   "execution_count": 10,
   "id": "faf65971-a8c8-4ee9-8401-28f3bb1432e9",
   "metadata": {},
   "outputs": [
    {
     "name": "stdout",
     "output_type": "stream",
     "text": [
      "9\n",
      "19\n"
     ]
    }
   ],
   "source": [
    "a = '123456789'\n",
    "print(len(a))\n",
    "b = 'syed farzan bokhari'\n",
    "print(len(b))"
   ]
  },
  {
   "cell_type": "code",
   "execution_count": 12,
   "id": "e1b3e362-37e3-4c36-9dfb-ddcdc3f711c2",
   "metadata": {},
   "outputs": [
    {
     "name": "stdout",
     "output_type": "stream",
     "text": [
      "a\n",
      "b\n",
      "c\n",
      "1\n",
      "2\n",
      "3\n"
     ]
    }
   ],
   "source": [
    "a = 'abc123'\n",
    "for c in a:\n",
    "    print(c)"
   ]
  },
  {
   "cell_type": "code",
   "execution_count": 11,
   "id": "4ed3cc0f-faa0-4697-aa01-b80fe513096a",
   "metadata": {},
   "outputs": [
    {
     "name": "stdout",
     "output_type": "stream",
     "text": [
      "abc123"
     ]
    }
   ],
   "source": [
    "# to print in a single line under for loop\n",
    "a = 'abc123'\n",
    "for c in a:\n",
    "    print(c, end = '')"
   ]
  },
  {
   "cell_type": "code",
   "execution_count": 13,
   "id": "741a7767-18fc-4aa2-83a1-558716509cc5",
   "metadata": {},
   "outputs": [
    {
     "name": "stdout",
     "output_type": "stream",
     "text": [
      "a b c 1 2 3 "
     ]
    }
   ],
   "source": [
    "# to print in a single line under for loop\n",
    "a = 'abc123'\n",
    "for c in a:\n",
    "    print(c, end = ' ')"
   ]
  },
  {
   "cell_type": "code",
   "execution_count": 14,
   "id": "30d24c89-09ec-467e-8da6-a730912d2acb",
   "metadata": {},
   "outputs": [
    {
     "name": "stdout",
     "output_type": "stream",
     "text": [
      "a,b,c,1,2,3,"
     ]
    }
   ],
   "source": [
    "# to print in a single line under for loop\n",
    "a = 'abc123'\n",
    "for c in a:\n",
    "    print(c, end = ',')"
   ]
  },
  {
   "cell_type": "code",
   "execution_count": 16,
   "id": "46409ed9-117c-4a6f-91ff-e95ae7436360",
   "metadata": {},
   "outputs": [
    {
     "name": "stdout",
     "output_type": "stream",
     "text": [
      "1\n",
      "2\n",
      "3\n",
      "4\n",
      "5\n",
      "6\n",
      "7\n",
      "8\n",
      "9\n"
     ]
    }
   ],
   "source": [
    "# While loop\n",
    "a = 1\n",
    "while a<10:\n",
    "    print(a)\n",
    "    a += 1"
   ]
  },
  {
   "cell_type": "code",
   "execution_count": 1,
   "id": "fa6ac341-5e15-44df-8eca-a5894b108546",
   "metadata": {},
   "outputs": [
    {
     "name": "stdout",
     "output_type": "stream",
     "text": [
      "****\n",
      "\n",
      "\n",
      "\n"
     ]
    }
   ],
   "source": [
    "# Pascal's Traingle\n",
    "n=0\n",
    "for i in range(n, 4, 1):\n",
    "    for j in range(n, 4, 1):\n",
    "        print('*', end='')\n",
    "        n += 1\n",
    "    print()\n",
    "    "
   ]
  },
  {
   "cell_type": "code",
   "execution_count": 7,
   "id": "98f22e23-6828-46b0-b3d2-c20ba2eaa795",
   "metadata": {},
   "outputs": [
    {
     "name": "stdout",
     "output_type": "stream",
     "text": [
      "   *\n",
      "  ***\n",
      " *****\n",
      "*******\n"
     ]
    }
   ],
   "source": [
    "# Pascal's Traingle\n",
    "\n",
    "for i in range(1, n+1):\n",
    "    for j in range(n - i):\n",
    "        print(' ', end=\"\")\n",
    "    for k in range(1, 2*i):\n",
    "        print('*', end=\"\")\n",
    "    print()"
   ]
  },
  {
   "cell_type": "code",
   "execution_count": 14,
   "id": "9c9cb632-1b43-417b-81e7-6af6d671c50c",
   "metadata": {},
   "outputs": [
    {
     "name": "stdout",
     "output_type": "stream",
     "text": [
      "hello world\n",
      "['__add__', '__class__', '__contains__', '__delattr__', '__dir__', '__doc__', '__eq__', '__format__', '__ge__', '__getattribute__', '__getitem__', '__getnewargs__', '__getstate__', '__gt__', '__hash__', '__init__', '__init_subclass__', '__iter__', '__le__', '__len__', '__lt__', '__mod__', '__mul__', '__ne__', '__new__', '__reduce__', '__reduce_ex__', '__repr__', '__rmod__', '__rmul__', '__setattr__', '__sizeof__', '__str__', '__subclasshook__', 'capitalize', 'casefold', 'center', 'count', 'encode', 'endswith', 'expandtabs', 'find', 'format', 'format_map', 'index', 'isalnum', 'isalpha', 'isascii', 'isdecimal', 'isdigit', 'isidentifier', 'islower', 'isnumeric', 'isprintable', 'isspace', 'istitle', 'isupper', 'join', 'ljust', 'lower', 'lstrip', 'maketrans', 'partition', 'removeprefix', 'removesuffix', 'replace', 'rfind', 'rindex', 'rjust', 'rpartition', 'rsplit', 'rstrip', 'split', 'splitlines', 'startswith', 'strip', 'swapcase', 'title', 'translate', 'upper', 'zfill']\n",
      "False\n",
      "hlowrd\n",
      "dlrow olleh\n"
     ]
    }
   ],
   "source": [
    "s = 'hello world'\n",
    "print(s)\n",
    "print(dir(s))\n",
    "print(s.isdecimal())\n",
    "\n",
    "print(s[::2])\n",
    "print(s[::-1])"
   ]
  },
  {
   "cell_type": "code",
   "execution_count": null,
   "id": "b8e30aae-439f-4cf8-9a19-bc9330781722",
   "metadata": {},
   "outputs": [],
   "source": []
  },
  {
   "cell_type": "code",
   "execution_count": 34,
   "id": "bc1a02f4-b6c9-4a8e-be74-edc40590628e",
   "metadata": {},
   "outputs": [
    {
     "name": "stdin",
     "output_type": "stream",
     "text": [
      "Enter a String:  mam\n"
     ]
    },
    {
     "name": "stdout",
     "output_type": "stream",
     "text": [
      "Palindrome\n"
     ]
    }
   ],
   "source": [
    "# read a string from keyboard & check if it is a palindrome or not\n",
    "s = input('Enter a String: ')\n",
    "n = len(s)\n",
    "for i in range(0, n//2, 1):\n",
    "    if(s[i] != s[n-i-1]):\n",
    "        print('Not a Palindrome')\n",
    "        break\n",
    "    else:\n",
    "        print('Palindrome')\n",
    "       "
   ]
  },
  {
   "cell_type": "code",
   "execution_count": 10,
   "id": "243e9bb3-7364-44d1-be5e-0a8c2ef57c39",
   "metadata": {},
   "outputs": [
    {
     "name": "stdout",
     "output_type": "stream",
     "text": [
      "sssssss\n",
      "ssssssskkk\n",
      "hiii\n"
     ]
    }
   ],
   "source": [
    "# Concatenate 2 string\n",
    "\n",
    "a = 's' * 7\n",
    "print(a)\n",
    "a = a + 'kkk'\n",
    "print(a)\n",
    "b = 'h' * 1\n",
    "c = 'i' * 3\n",
    "print(b+c)"
   ]
  },
  {
   "cell_type": "code",
   "execution_count": 76,
   "id": "29d20aa3-df43-41d7-b9b9-9fbf50260d32",
   "metadata": {},
   "outputs": [
    {
     "name": "stdout",
     "output_type": "stream",
     "text": [
      "maam one more\n",
      "['__add__', '__class__', '__class_getitem__', '__contains__', '__delattr__', '__delitem__', '__dir__', '__doc__', '__eq__', '__format__', '__ge__', '__getattribute__', '__getitem__', '__getstate__', '__gt__', '__hash__', '__iadd__', '__imul__', '__init__', '__init_subclass__', '__iter__', '__le__', '__len__', '__lt__', '__mul__', '__ne__', '__new__', '__reduce__', '__reduce_ex__', '__repr__', '__reversed__', '__rmul__', '__setattr__', '__setitem__', '__sizeof__', '__str__', '__subclasshook__', 'append', 'clear', 'copy', 'count', 'extend', 'index', 'insert', 'pop', 'remove', 'reverse', 'sort']\n"
     ]
    }
   ],
   "source": [
    "a = 'madam done more'\n",
    "#print(a.replace('d', ''))\n",
    "\n",
    "l = a.split('d')\n",
    "print(\"\".join(l))\n",
    "print(dir(l))"
   ]
  },
  {
   "cell_type": "code",
   "execution_count": 7,
   "id": "1d8b943a-fb1d-4245-a1bc-5eef99e3d85c",
   "metadata": {},
   "outputs": [
    {
     "name": "stdin",
     "output_type": "stream",
     "text": [
      "Enter string 1:  farzan\n",
      "Enter string 2:  farzan\n"
     ]
    },
    {
     "name": "stdout",
     "output_type": "stream",
     "text": [
      "Equal\n"
     ]
    }
   ],
   "source": [
    "# Write a prog to compare 2 strings\n",
    "\n",
    "s1 = input('Enter string 1: ')\n",
    "s2 = input('Enter string 2: ')\n",
    "\n",
    "if s1 == s2:\n",
    "    print('Equal')\n",
    "else:\n",
    "    print('Not Equal')"
   ]
  },
  {
   "cell_type": "code",
   "execution_count": 19,
   "id": "c245e091-3d79-4385-be29-f12ab6fb9aa6",
   "metadata": {},
   "outputs": [
    {
     "name": "stdin",
     "output_type": "stream",
     "text": [
      "Enter a Lower case Alphabet f\n"
     ]
    },
    {
     "name": "stdout",
     "output_type": "stream",
     "text": [
      "F\n",
      "f\n"
     ]
    }
   ],
   "source": [
    "# Convert case of Alphabet\n",
    "\n",
    "t = input('Enter a Lower case Alphabet')\n",
    "l = t.upper()\n",
    "print(l)\n",
    "u = print(l.lower())\n",
    "\n"
   ]
  },
  {
   "cell_type": "code",
   "execution_count": 14,
   "id": "28a286d7-3664-42c6-b9b9-4a62ea9b6070",
   "metadata": {},
   "outputs": [
    {
     "name": "stdout",
     "output_type": "stream",
     "text": [
      "syea farzan\n"
     ]
    }
   ],
   "source": [
    "# To replace a character in a string \n",
    "a = 'syed farzan'\n",
    "print(a.replace('d', 'a'))"
   ]
  },
  {
   "cell_type": "code",
   "execution_count": 32,
   "id": "25d937bd-a577-484a-b1c1-453d872d0d69",
   "metadata": {},
   "outputs": [
    {
     "name": "stdout",
     "output_type": "stream",
     "text": [
      "True\n"
     ]
    }
   ],
   "source": [
    "# Check if the no. is Binary or Not\n",
    "\n",
    "s = 0\n",
    "if s == 0 or s == 1:\n",
    "    print('True')\n",
    "else:\n",
    "    print('False')"
   ]
  },
  {
   "cell_type": "code",
   "execution_count": null,
   "id": "f07f9541-277f-4376-86a7-efc89aae42e8",
   "metadata": {},
   "outputs": [],
   "source": [
    "# Atleast 1 Character & 1 Digit\n",
    "\n"
   ]
  },
  {
   "cell_type": "code",
   "execution_count": 36,
   "id": "8e94f917-7d7d-4a10-9493-5063723e6826",
   "metadata": {},
   "outputs": [
    {
     "name": "stdout",
     "output_type": "stream",
     "text": [
      "<class 'list'>\n"
     ]
    }
   ],
   "source": [
    "# LIST: Ordered collection of Objects\n",
    "# Every Element is Indexed\n",
    "l = []\n",
    "print(type(l))"
   ]
  },
  {
   "cell_type": "code",
   "execution_count": 75,
   "id": "eb42ae2a-598c-4c14-bec3-0ef2237b17ff",
   "metadata": {},
   "outputs": [
    {
     "name": "stdout",
     "output_type": "stream",
     "text": [
      "123\n",
      "<class 'str'>\n",
      "123\n",
      "<class 'int'>\n",
      "[1, 2, 3]\n",
      "<class 'list'>\n",
      "(3, 4)\n",
      "<class 'tuple'>\n",
      "\n",
      "replace\n",
      "<class 'list'>\n",
      "3\n"
     ]
    }
   ],
   "source": [
    "l = [\"123\", 123, [1, 2, 3], (3, 4)]\n",
    "for ele in l:\n",
    "    print(ele)\n",
    "    print(type(ele))\n",
    "\n",
    "\n",
    "print()\n",
    "l[1] = 'replace'\n",
    "print(l[1])\n",
    "print(type(l))\n",
    "\n",
    "# Index of the ele\n",
    "print(l.index((3, 4)))"
   ]
  },
  {
   "cell_type": "code",
   "execution_count": 55,
   "id": "e84e5aa6-4c4c-4486-a7be-8cdf16352ecb",
   "metadata": {},
   "outputs": [
    {
     "name": "stdout",
     "output_type": "stream",
     "text": [
      "None\n",
      "['123', 'replace', [1, 2, 3], (3, 4), 'end', 'end', 'end', '1', 'end', '1', 'end']\n",
      "None\n",
      "['123', 'replace', [1, 2, 3], (3, 4), 'end', 'end', 'end', '1', 'end', '1', 'end', '1']\n"
     ]
    }
   ],
   "source": [
    "print(l.append(\"end\"))\n",
    "print(l)\n",
    "print(l.append(\"1\"))\n",
    "print(l)"
   ]
  },
  {
   "cell_type": "code",
   "execution_count": 74,
   "id": "df0b7bd8-63a7-4785-a101-66fd1299d96d",
   "metadata": {},
   "outputs": [
    {
     "name": "stdout",
     "output_type": "stream",
     "text": [
      "[1, 2, 3, 4, 5, 6, 5, 6, 7, [4, 5, 6, 7]]\n"
     ]
    }
   ],
   "source": [
    "# Extend\n",
    "# Adds ele into another string\n",
    "k = [5, 6, 7, [4, 5, 6, 7]]\n",
    "l.extend(k)\n",
    "print(l)"
   ]
  },
  {
   "cell_type": "code",
   "execution_count": 65,
   "id": "a0054a60-ff55-4ebc-9937-a58455675734",
   "metadata": {},
   "outputs": [
    {
     "name": "stdout",
     "output_type": "stream",
     "text": [
      "2\n",
      "1\n",
      "5\n"
     ]
    }
   ],
   "source": [
    "print(l.count([4, 5, 6, 7]))\n",
    "print(l.count([1, 2, 3]))\n",
    "print(l.count('end'))"
   ]
  },
  {
   "cell_type": "code",
   "execution_count": 68,
   "id": "51ee2177-2040-409c-8f1a-04448ab07bfd",
   "metadata": {},
   "outputs": [
    {
     "name": "stdout",
     "output_type": "stream",
     "text": [
      "20\n"
     ]
    }
   ],
   "source": [
    "print(len(l))"
   ]
  },
  {
   "cell_type": "code",
   "execution_count": 73,
   "id": "28c63003-c629-4395-948a-4735f1d7cb24",
   "metadata": {},
   "outputs": [
    {
     "name": "stdout",
     "output_type": "stream",
     "text": [
      "[1, 2, 3, 5, 6]\n",
      "[1, 2, 3, 4, 5, 6]\n"
     ]
    }
   ],
   "source": [
    "# Insert into the List\n",
    "\n",
    "l = [1, 2, 3, 5, 6]\n",
    "print(l)\n",
    "l.insert(3, 4)\n",
    "print(l)"
   ]
  },
  {
   "cell_type": "code",
   "execution_count": 81,
   "id": "19eba0d3-3faa-433a-b684-31e3ab31f2a8",
   "metadata": {},
   "outputs": [
    {
     "name": "stdout",
     "output_type": "stream",
     "text": [
      "[1, 2, 3, 5, 6]\n",
      "[1, 2, 3, 5, 6, 3]\n"
     ]
    }
   ],
   "source": [
    "# Insert into the List\n",
    "\n",
    "l = [1, 2, 3, 5, 6]\n",
    "print(l)\n",
    "l.insert(10, 3)\n",
    "print(l)"
   ]
  },
  {
   "cell_type": "code",
   "execution_count": 84,
   "id": "acbdf9a6-f4fd-47e2-b21c-0696c505f30e",
   "metadata": {},
   "outputs": [
    {
     "name": "stdout",
     "output_type": "stream",
     "text": [
      "3\n",
      "[1, 2]\n"
     ]
    }
   ],
   "source": [
    "# Pop element\n",
    "\n",
    "l = [1, 2, 3]\n",
    "print(l.pop())\n",
    "print(l)"
   ]
  },
  {
   "cell_type": "code",
   "execution_count": 85,
   "id": "c39c73e6-7165-457a-b0a5-9417491ddb42",
   "metadata": {},
   "outputs": [
    {
     "name": "stdout",
     "output_type": "stream",
     "text": [
      "1\n",
      "[2, 3]\n"
     ]
    }
   ],
   "source": [
    "# Pop element\n",
    "\n",
    "l = [1, 2, 3]\n",
    "print(l.pop(0))\n",
    "print(l)"
   ]
  },
  {
   "cell_type": "code",
   "execution_count": 95,
   "id": "bf0c353c-ab0f-414b-b712-cbbcc8383e7e",
   "metadata": {},
   "outputs": [
    {
     "name": "stdout",
     "output_type": "stream",
     "text": [
      "[1]\n"
     ]
    }
   ],
   "source": [
    "# Declaring List\n",
    "l = list()\n",
    "\n",
    "# Assigning List\n",
    "l.insert(0, 1)\n",
    "print(l)\n"
   ]
  },
  {
   "cell_type": "code",
   "execution_count": 97,
   "id": "28606335-e282-46f9-a83a-86da3cdcabb5",
   "metadata": {},
   "outputs": [
    {
     "name": "stdout",
     "output_type": "stream",
     "text": [
      "[1, 2, 3, 4]\n"
     ]
    }
   ],
   "source": [
    "l = list((1, 2, 3, 4))\n",
    "print(l)"
   ]
  },
  {
   "cell_type": "code",
   "execution_count": 98,
   "id": "d0e65421-4a6a-4417-b892-0162eeebf626",
   "metadata": {},
   "outputs": [
    {
     "name": "stdout",
     "output_type": "stream",
     "text": [
      "1\n",
      "2\n",
      "3\n",
      "4\n"
     ]
    }
   ],
   "source": [
    "for i in range(len(l)):\n",
    "    print(l[i])"
   ]
  },
  {
   "cell_type": "code",
   "execution_count": 128,
   "id": "d72bff06-f123-4482-a59f-16d55c0dc35d",
   "metadata": {},
   "outputs": [
    {
     "name": "stdin",
     "output_type": "stream",
     "text": [
      "Enter ele STOP\n"
     ]
    },
    {
     "name": "stdout",
     "output_type": "stream",
     "text": [
      "['S', 'T', 'O', 'P']\n"
     ]
    }
   ],
   "source": [
    "# Read inputs from keyboard and store the values in a list.\n",
    "# Continue read input until user press STOP\n",
    "m = input('Enter ele')\n",
    "l = list(m)\n",
    "while m != 'STOP':\n",
    "    m = input('Enter a no.: ')\n",
    "\n",
    "print(l)\n"
   ]
  },
  {
   "cell_type": "raw",
   "id": "c1664e53-2072-4074-8cf7-7e212d2137aa",
   "metadata": {},
   "source": []
  },
  {
   "cell_type": "code",
   "execution_count": 138,
   "id": "6f416684-2246-4e58-9086-7c1b087a63de",
   "metadata": {},
   "outputs": [
    {
     "name": "stdout",
     "output_type": "stream",
     "text": [
      "['__class__', '__class_getitem__', '__contains__', '__delattr__', '__delitem__', '__dir__', '__doc__', '__eq__', '__format__', '__ge__', '__getattribute__', '__getitem__', '__getstate__', '__gt__', '__hash__', '__init__', '__init_subclass__', '__ior__', '__iter__', '__le__', '__len__', '__lt__', '__ne__', '__new__', '__or__', '__reduce__', '__reduce_ex__', '__repr__', '__reversed__', '__ror__', '__setattr__', '__setitem__', '__sizeof__', '__str__', '__subclasshook__', 'clear', 'copy', 'fromkeys', 'get', 'items', 'keys', 'pop', 'popitem', 'setdefault', 'update', 'values']\n",
      "a is the key for 123 value\n",
      "b is the key for 34 value\n",
      "dict_keys(['a', 'b'])\n"
     ]
    }
   ],
   "source": [
    "l = [4, 5, 6, 7, 8, 9]\n",
    "print(dir(d))\n",
    "d = {\"a\": 123, \"b\": 34}\n",
    "for k in d:\n",
    "    print(k, \"is the key for\", d[k], \"value\")\n",
    "print(d.keys())\n"
   ]
  },
  {
   "cell_type": "code",
   "execution_count": 139,
   "id": "7859c870-b97a-40e0-b467-33cbcd10dbb5",
   "metadata": {},
   "outputs": [
    {
     "ename": "SyntaxError",
     "evalue": "invalid syntax (3424148754.py, line 5)",
     "output_type": "error",
     "traceback": [
      "\u001b[1;36m  Cell \u001b[1;32mIn[139], line 5\u001b[1;36m\u001b[0m\n\u001b[1;33m    i/p:\u001b[0m\n\u001b[1;37m       ^\u001b[0m\n\u001b[1;31mSyntaxError\u001b[0m\u001b[1;31m:\u001b[0m invalid syntax\n"
     ]
    }
   ],
   "source": [
    "# KEY\n",
    "# get\n",
    "\n",
    "# Histogram\n",
    "i/p:\n",
    "    i = \"abac\"\n",
    "o/p:\n",
    "    a=2\n",
    "    b=1\n",
    "    c=1"
   ]
  }
 ],
 "metadata": {
  "kernelspec": {
   "display_name": "Python 3 (ipykernel)",
   "language": "python",
   "name": "python3"
  },
  "language_info": {
   "codemirror_mode": {
    "name": "ipython",
    "version": 3
   },
   "file_extension": ".py",
   "mimetype": "text/x-python",
   "name": "python",
   "nbconvert_exporter": "python",
   "pygments_lexer": "ipython3",
   "version": "3.11.1"
  }
 },
 "nbformat": 4,
 "nbformat_minor": 5
}
