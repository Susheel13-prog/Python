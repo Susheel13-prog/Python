{
 "cells": [
  {
   "cell_type": "code",
   "execution_count": null,
   "id": "96758511-2c44-46af-92e0-b3d9d47a8a1f",
   "metadata": {},
   "outputs": [],
   "source": [
    "\n"
   ]
  },
  {
   "cell_type": "code",
   "execution_count": 25,
   "id": "133a0d1f-6740-4f62-ba27-d745887759f1",
   "metadata": {},
   "outputs": [
    {
     "name": "stdout",
     "output_type": "stream",
     "text": [
      "2,6,7,2,8,"
     ]
    }
   ],
   "source": [
    "head = None\n",
    "\n",
    "def insert(node):\n",
    "    global head\n",
    "    if head == None:\n",
    "        head = node\n",
    "        return\n",
    "    temp = head\n",
    "    while temp[\"link\"]:\n",
    "        temp = temp[\"link\"]\n",
    "    temp[\"link\"] = node\n",
    "\n",
    "def display():\n",
    "    if head  == None:\n",
    "        print(\"List is Empty\")\n",
    "        return\n",
    "    temp = head\n",
    "    while temp:\n",
    "        print(temp[\"info\"], end = \",\")\n",
    "        temp = temp[\"link\"]\n",
    "\n",
    "for item in [2, 6, 7, 2, 8]:\n",
    "    node ={\n",
    "        \"info\" : item,\n",
    "        \"link\" : None\n",
    "    }\n",
    "    insert(node)\n",
    "    \n",
    "display()"
   ]
  },
  {
   "cell_type": "code",
   "execution_count": 23,
   "id": "6fb9d55d-8c78-4d81-952b-11b277bfaa5d",
   "metadata": {},
   "outputs": [
    {
     "name": "stdout",
     "output_type": "stream",
     "text": [
      "vvvce23cse0008@vvce.ac.in\n",
      "vvce23cse0187@vvce.ac.in\n"
     ]
    }
   ],
   "source": [
    "# For a given text file, extract all the emails\n",
    "\n",
    "import re\n",
    "\n",
    "def extract_emails(filename):\n",
    "    # Regular expression pattern for matching emails\n",
    "    email_pattern = r'[a-zA-Z0-9._%+-]+@[a-zA-Z0-9.-]+\\.[a-zA-Z]{2,}'\n",
    "    \n",
    "    with open(filename, 'r') as file:\n",
    "        content = file.read()  # Read the entire content of the file\n",
    "    \n",
    "    # Find all email addresses in the content using regular expression\n",
    "    emails = re.findall(email_pattern, content)\n",
    "    \n",
    "    return emails\n",
    "\n",
    "# Example usage:\n",
    "filename = 'your_text_file.txt'  # Replace with your file name\n",
    "emails = extract_emails(filename)\n",
    "\n",
    "# Print the extracted emails\n",
    "for email in emails:\n",
    "    print(email)\n"
   ]
  },
  {
   "cell_type": "code",
   "execution_count": 26,
   "id": "0db1155e-143a-4bf3-aeb6-a45becd8bafb",
   "metadata": {},
   "outputs": [
    {
     "name": "stdout",
     "output_type": "stream",
     "text": [
      "Yes, there is at least 1 match\n",
      "['vvce23cse0008@gmail.com', 'vvce23cse0187@yahoo.co.in']\n"
     ]
    }
   ],
   "source": [
    "txt = r\"my email id is vvce23cse0008@gmail.com and i have another vvce23cse0187@yahoo.co.in\"\n",
    "\n",
    "x = re.findall(r\"[a-zA-Z0-9._]+@[a-zA-Z0-9.-]+[.][a-zA-Z]{2,4}\", txt)\n",
    "\n",
    "if x:\n",
    "    print(\"Yes, there is at least 1 match\")\n",
    "    print(x)\n",
    "else:\n",
    "    print(\"No match\")"
   ]
  },
  {
   "cell_type": "code",
   "execution_count": 30,
   "id": "492f4a2c-1aa7-466d-9dda-5b0e8d341a1b",
   "metadata": {},
   "outputs": [
    {
     "name": "stdin",
     "output_type": "stream",
     "text": [
      "Enter a password to validate:  1\n"
     ]
    },
    {
     "name": "stdout",
     "output_type": "stream",
     "text": [
      "Password is invalid. Ensure it meets the criteria.\n"
     ]
    }
   ],
   "source": [
    "# Password Validation\n",
    "\n",
    "import re\n",
    "\n",
    "# Function to validate password\n",
    "def validate_password(password):\n",
    "    # Regular expression for password validation\n",
    "    password_pattern = r'^(?=.*[A-Z])(?=.*[a-z])(?=.*\\d)(?=.*[@$!%*?&])[A-Za-z\\d@$!%*?&]{8,}$'\n",
    "    \n",
    "    # Check if the password matches the pattern\n",
    "    if re.match(password_pattern, password):\n",
    "        return True\n",
    "    else:\n",
    "        return False\n",
    "\n",
    "# Example usage:\n",
    "password = input(\"Enter a password to validate: \")\n",
    "if validate_password(password):\n",
    "    print(\"Password is valid.\")\n",
    "else:\n",
    "    print(\"Password is invalid. Ensure it meets the criteria.\")\n"
   ]
  },
  {
   "cell_type": "code",
   "execution_count": 31,
   "id": "2844f8cc-1078-4831-8969-5927c81a26c9",
   "metadata": {},
   "outputs": [
    {
     "name": "stdin",
     "output_type": "stream",
     "text": [
      "Enter a phone number to validate:  123456789\n"
     ]
    },
    {
     "name": "stdout",
     "output_type": "stream",
     "text": [
      "Phone number is valid.\n"
     ]
    }
   ],
   "source": [
    "# Phone Number Verification\n",
    "\n",
    "import re\n",
    "\n",
    "# Function to validate phone number\n",
    "def validate_phone_number(phone_number):\n",
    "    # Regular expression for phone number validation (supports + or no +, and digits, spaces, or hyphens)\n",
    "    phone_pattern = r'^\\+?(\\d{1,3})?[-.\\s]?\\(?\\d{1,4}\\)?[-.\\s]?\\d{1,4}[-.\\s]?\\d{1,4}[-.\\s]?\\d{1,4}$'\n",
    "    \n",
    "    # Check if the phone number matches the pattern\n",
    "    if re.match(phone_pattern, phone_number):\n",
    "        return True\n",
    "    else:\n",
    "        return False\n",
    "\n",
    "# Example usage:\n",
    "phone_number = input(\"Enter a phone number to validate: \")\n",
    "if validate_phone_number(phone_number):\n",
    "    print(\"Phone number is valid.\")\n",
    "else:\n",
    "    print(\"Phone number is invalid.\")\n"
   ]
  },
  {
   "cell_type": "code",
   "execution_count": 33,
   "id": "312fab09-b7bd-4c8f-8022-830108ee35a3",
   "metadata": {},
   "outputs": [
    {
     "name": "stdin",
     "output_type": "stream",
     "text": [
      "Enter the base of the triangle:  5\n",
      "Enter the height of the triangle:  2\n"
     ]
    },
    {
     "name": "stdout",
     "output_type": "stream",
     "text": [
      "The area of the triangle is: 5.0\n"
     ]
    }
   ],
   "source": [
    "# Base class Polygon\n",
    "class Polygon:\n",
    "    def __init__(self):\n",
    "        # This constructor is used to initialize any common attributes if needed\n",
    "        pass\n",
    "\n",
    "    # Method to find area (this will be overridden in the derived class)\n",
    "    def findArea(self):\n",
    "        raise NotImplementedError(\"Subclass must implement abstract method\")\n",
    "\n",
    "# Derived class Triangle\n",
    "class Triangle(Polygon):\n",
    "    def __init__(self, base, height):\n",
    "        # Initialize base and height specific to Triangle\n",
    "        self.base = base\n",
    "        self.height = height\n",
    "\n",
    "    # Override the findArea method to calculate area of triangle\n",
    "    def findArea(self):\n",
    "        return 0.5 * self.base * self.height\n",
    "\n",
    "# Example usage:\n",
    "# Get user input for the base and height of the triangle\n",
    "try:\n",
    "    base = float(input(\"Enter the base of the triangle: \"))  # Get base as a float\n",
    "    height = float(input(\"Enter the height of the triangle: \"))  # Get height as a float\n",
    "    \n",
    "    # Creating a triangle object with user inputs\n",
    "    triangle = Triangle(base, height)\n",
    "\n",
    "    # Calling the findArea method inherited from Polygon and overridden in Triangle\n",
    "    area = triangle.findArea()\n",
    "    print(f\"The area of the triangle is: {area}\")\n",
    "except ValueError:\n",
    "    print(\"Invalid input. Please enter numerical values for base and height.\")\n"
   ]
  }
 ],
 "metadata": {
  "kernelspec": {
   "display_name": "Python 3 (ipykernel)",
   "language": "python",
   "name": "python3"
  },
  "language_info": {
   "codemirror_mode": {
    "name": "ipython",
    "version": 3
   },
   "file_extension": ".py",
   "mimetype": "text/x-python",
   "name": "python",
   "nbconvert_exporter": "python",
   "pygments_lexer": "ipython3",
   "version": "3.12.1"
  }
 },
 "nbformat": 4,
 "nbformat_minor": 5
}
