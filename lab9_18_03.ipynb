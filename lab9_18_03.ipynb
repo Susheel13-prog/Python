{
 "cells": [
  {
   "cell_type": "code",
   "execution_count": null,
   "id": "96758511-2c44-46af-92e0-b3d9d47a8a1f",
   "metadata": {},
   "outputs": [],
   "source": [
    "\n"
   ]
  },
  {
   "cell_type": "code",
   "execution_count": 25,
   "id": "133a0d1f-6740-4f62-ba27-d745887759f1",
   "metadata": {},
   "outputs": [
    {
     "name": "stdout",
     "output_type": "stream",
     "text": [
      "2,6,7,2,8,"
     ]
    }
   ],
   "source": [
    "head = None\n",
    "\n",
    "def insert(node):\n",
    "    global head\n",
    "    if head == None:\n",
    "        head = node\n",
    "        return\n",
    "    temp = head\n",
    "    while temp[\"link\"]:\n",
    "        temp = temp[\"link\"]\n",
    "    temp[\"link\"] = node\n",
    "\n",
    "def display():\n",
    "    if head  == None:\n",
    "        print(\"List is Empty\")\n",
    "        return\n",
    "    temp = head\n",
    "    while temp:\n",
    "        print(temp[\"info\"], end = \",\")\n",
    "        temp = temp[\"link\"]\n",
    "\n",
    "for item in [2, 6, 7, 2, 8]:\n",
    "    node ={\n",
    "        \"info\" : item,\n",
    "        \"link\" : None\n",
    "    }\n",
    "    insert(node)\n",
    "    \n",
    "display()"
   ]
  },
  {
   "cell_type": "code",
   "execution_count": 23,
   "id": "6fb9d55d-8c78-4d81-952b-11b277bfaa5d",
   "metadata": {},
   "outputs": [
    {
     "name": "stdout",
     "output_type": "stream",
     "text": [
      "vvvce23cse0008@vvce.ac.in\n",
      "vvce23cse0187@vvce.ac.in\n"
     ]
    }
   ],
   "source": [
    "# For a given text file, extract all the emails\n",
    "\n",
    "import re\n",
    "\n",
    "def extract_emails(filename):\n",
    "    # Regular expression pattern for matching emails\n",
    "    email_pattern = r'[a-zA-Z0-9._%+-]+@[a-zA-Z0-9.-]+\\.[a-zA-Z]{2,}'\n",
    "    \n",
    "    with open(filename, 'r') as file:\n",
    "        content = file.read()  # Read the entire content of the file\n",
    "    \n",
    "    # Find all email addresses in the content using regular expression\n",
    "    emails = re.findall(email_pattern, content)\n",
    "    \n",
    "    return emails\n",
    "\n",
    "# Example usage:\n",
    "filename = 'your_text_file.txt'  # Replace with your file name\n",
    "emails = extract_emails(filename)\n",
    "\n",
    "# Print the extracted emails\n",
    "for email in emails:\n",
    "    print(email)\n"
   ]
  },
  {
   "cell_type": "code",
   "execution_count": 26,
   "id": "0db1155e-143a-4bf3-aeb6-a45becd8bafb",
   "metadata": {},
   "outputs": [
    {
     "name": "stdout",
     "output_type": "stream",
     "text": [
      "Yes, there is at least 1 match\n",
      "['vvce23cse0008@gmail.com', 'vvce23cse0187@yahoo.co.in']\n"
     ]
    }
   ],
   "source": [
    "txt = r\"my email id is vvce23cse0008@gmail.com and i have another vvce23cse0187@yahoo.co.in\"\n",
    "\n",
    "x = re.findall(r\"[a-zA-Z0-9._]+@[a-zA-Z0-9.-]+[.][a-zA-Z]{2,4}\", txt)\n",
    "\n",
    "if x:\n",
    "    print(\"Yes, there is at least 1 match\")\n",
    "    print(x)\n",
    "else:\n",
    "    print(\"No match\")"
   ]
  },
  {
   "cell_type": "code",
   "execution_count": null,
   "id": "492f4a2c-1aa7-466d-9dda-5b0e8d341a1b",
   "metadata": {},
   "outputs": [],
   "source": []
  }
 ],
 "metadata": {
  "kernelspec": {
   "display_name": "Python 3 (ipykernel)",
   "language": "python",
   "name": "python3"
  },
  "language_info": {
   "codemirror_mode": {
    "name": "ipython",
    "version": 3
   },
   "file_extension": ".py",
   "mimetype": "text/x-python",
   "name": "python",
   "nbconvert_exporter": "python",
   "pygments_lexer": "ipython3",
   "version": "3.12.1"
  }
 },
 "nbformat": 4,
 "nbformat_minor": 5
}
