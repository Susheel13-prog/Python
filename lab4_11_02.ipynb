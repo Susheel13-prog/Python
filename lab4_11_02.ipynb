{
 "cells": [
  {
   "cell_type": "code",
   "execution_count": 2,
   "id": "905c02bb-26a8-4d48-bce0-a5e8f5930f9e",
   "metadata": {},
   "outputs": [],
   "source": [
    "# Pascal's Traingle\n",
    "\n",
    "for i in range(1, n+1):\n",
    "    for j in range(n - 1):\n",
    "        print('', end='')\n",
    "    for k in range(1, 2*i):\n",
    "        print('*', end='')\n",
    "    print()"
   ]
  }
 ],
 "metadata": {
  "kernelspec": {
   "display_name": "Python 3 (ipykernel)",
   "language": "python",
   "name": "python3"
  },
  "language_info": {
   "codemirror_mode": {
    "name": "ipython",
    "version": 3
   },
   "file_extension": ".py",
   "mimetype": "text/x-python",
   "name": "python",
   "nbconvert_exporter": "python",
   "pygments_lexer": "ipython3",
   "version": "3.11.1"
  }
 },
 "nbformat": 4,
 "nbformat_minor": 5
}
