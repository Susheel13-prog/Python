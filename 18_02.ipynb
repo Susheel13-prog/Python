{
 "cells": [
  {
   "cell_type": "code",
   "execution_count": 3,
   "id": "2dff0931-d275-42b3-ba9e-a519f14982c5",
   "metadata": {},
   "outputs": [],
   "source": [
    "# Input \n",
    "# i = \"abcdabe\"\n",
    "\n",
    "# Output\n",
    "# a=2\n",
    "# b=2\n",
    "# c=1\n",
    "# d=1\n",
    "# e=1"
   ]
  },
  {
   "cell_type": "code",
   "execution_count": 4,
   "id": "8c9131e3-8b47-4927-bace-0e7d4a17a54e",
   "metadata": {},
   "outputs": [
    {
     "name": "stdout",
     "output_type": "stream",
     "text": [
      "a=2\n",
      "b=2\n",
      "c=1\n",
      "d=1\n",
      "e=1\n"
     ]
    }
   ],
   "source": [
    "#i = \"abcdabe\"\n",
    "#print(dir(i))\n",
    "i = \"abcdabe\"\n",
    "char_count = {}\n",
    "\n",
    "# Count occurrences of each character\n",
    "for char in i:\n",
    "    if char in char_count:\n",
    "        char_count[char] += 1\n",
    "    else:\n",
    "        char_count[char] = 1\n",
    "\n",
    "# Print the counts\n",
    "for char, count in char_count.items():\n",
    "    print(f\"{char}={count}\")"
   ]
  },
  {
   "cell_type": "code",
   "execution_count": 9,
   "id": "9cb04d8d-099f-4bec-a5cc-b683b227ee96",
   "metadata": {},
   "outputs": [
    {
     "name": "stdin",
     "output_type": "stream",
     "text": [
      "Enter a list [\"122\", {1, 2, 4}, 6]\n",
      "Enter a list [\"122\", {1, 2, 4}, 6]\n"
     ]
    },
    {
     "name": "stdout",
     "output_type": "stream",
     "text": [
      "List is same\n"
     ]
    }
   ],
   "source": [
    "# Compare whether L1 and L2 content are same and display suitable message\n",
    "\n",
    "# L1 = {\"123\", {1, 2, 4}, 6}\n",
    "# L2 = {\"123\", {1, 2, 4}, 6}\n",
    "# MSG: Lists are same\n",
    "\n",
    "# L1 = {\"123\", {1, 2, 5}, 6}\n",
    "# L2 = {\"123\", {1, 2, 4}, 6}\n",
    "# MSG: Lists aren't same\n",
    "\n",
    "L1 = [\"123\", {1, 2, 4}, 6]\n",
    "L2 = [\"123\", {1, 2, 4}, 6]\n",
    "\n",
    "p = input(\"Enter a list\")\n",
    "q = input(\"Enter a list\")\n",
    "\n",
    "if p == q:\n",
    "    print(\"List is same\")\n",
    "else:\n",
    "    print(\"List not same\")\n",
    "    "
   ]
  },
  {
   "cell_type": "code",
   "execution_count": 16,
   "id": "11b668fc-aa21-427d-b5cd-763c9831859a",
   "metadata": {},
   "outputs": [
    {
     "name": "stdout",
     "output_type": "stream",
     "text": [
      "123\n",
      "farzan\n",
      "[1, 2, 3]\n",
      "(5, 5)\n",
      "[123, 'farzan', [1, 2, 3]]\n",
      "None\n",
      "[123, 'farzan', [1, 2, 3], 12345678910111213]\n"
     ]
    }
   ],
   "source": [
    "# Write a prog. to access the ele. from the list and later delete it and also update it\n",
    "\n",
    "l = [123, \"farzan\", [1, 2 ,3], (5, 5)]\n",
    "for ele in l:\n",
    "    print(ele)\n",
    "l.remove((5, 5))\n",
    "print(l)\n",
    "print(l. append(12345678910111213))\n",
    "print(l)"
   ]
  },
  {
   "cell_type": "code",
   "execution_count": 20,
   "id": "e1d4033b-d74c-4f8a-8313-2c239bbe8d47",
   "metadata": {},
   "outputs": [
    {
     "name": "stdout",
     "output_type": "stream",
     "text": [
      "4\n",
      "[4, 3, 2, 1]\n"
     ]
    }
   ],
   "source": [
    "# Find the length of the list and reverse it\n",
    "\n",
    "l = [1, 2, 3, 4]\n",
    "c = 0\n",
    "for ele in l:\n",
    "    c += 1\n",
    "print(c)\n",
    "\n",
    "print(l[::-1])"
   ]
  },
  {
   "cell_type": "code",
   "execution_count": 21,
   "id": "3e794c4e-0d7c-4da5-b29f-8babf8e27cc0",
   "metadata": {},
   "outputs": [
    {
     "name": "stdout",
     "output_type": "stream",
     "text": [
      "{'a': 2, 'b': 2, 'c': 1, 'd': 1, 'e': 1}\n"
     ]
    }
   ],
   "source": [
    "# Histogra 2nd approach\n",
    "\n",
    "i = \"abcdabe\"\n",
    "d = {}\n",
    "for s in i:\n",
    "    d[s] = d.get(s, 0) + 1\n",
    "print(d)"
   ]
  },
  {
   "cell_type": "code",
   "execution_count": null,
   "id": "9af489a9-9632-4bdd-a91b-421b0f1985d6",
   "metadata": {},
   "outputs": [
    {
     "name": "stdout",
     "output_type": "stream",
     "text": [
      "1. Push  2. Pop  3. Display  4. Exit\n"
     ]
    }
   ],
   "source": [
    "# Implement stack data structure using List(later converted into class)\n",
    "\n",
    "Stack = []\n",
    "\n",
    "def push(ele):\n",
    "    Stack.append(ele)\n",
    "\n",
    "def pop():\n",
    "    if len(Stack) == 0:\n",
    "        print(\"Stack is empty\")\n",
    "        return None\n",
    "    return pop()\n",
    "\n",
    "def display():\n",
    "    for i in Stack:\n",
    "        print(i)\n",
    "\n",
    "while True:\n",
    "    print(\"1. Push  2. Pop  3. Display  4. Exit\")\n",
    "    choice = int(input(\"Enter your choice: \"))\n",
    "    if choice == 1:\n",
    "        ele = input(\"Enter ele to be pushed: \")\n",
    "        push(ele)\n",
    "    elif choice == 2:\n",
    "        print(\"Popped Element\", ele)\n",
    "    elif choice == 3:\n",
    "        display()\n",
    "    else:\n",
    "        break"
   ]
  },
  {
   "cell_type": "code",
   "execution_count": null,
   "id": "2baf3d39-e304-451f-aaad-3c336df8db22",
   "metadata": {},
   "outputs": [],
   "source": []
  }
 ],
 "metadata": {
  "kernelspec": {
   "display_name": "Python 3 (ipykernel)",
   "language": "python",
   "name": "python3"
  },
  "language_info": {
   "codemirror_mode": {
    "name": "ipython",
    "version": 3
   },
   "file_extension": ".py",
   "mimetype": "text/x-python",
   "name": "python",
   "nbconvert_exporter": "python",
   "pygments_lexer": "ipython3",
   "version": "3.11.1"
  }
 },
 "nbformat": 4,
 "nbformat_minor": 5
}
