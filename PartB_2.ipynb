{
 "cells": [
  {
   "cell_type": "code",
   "execution_count": null,
   "id": "27e1242e-481a-4195-9a06-07518d8188c3",
   "metadata": {},
   "outputs": [
    {
     "name": "stdout",
     "output_type": "stream",
     "text": [
      "Extracted Email IDs:\n",
      "support@example.com\n",
      "john.doe@company.org\n"
     ]
    }
   ],
   "source": [
    "import re\n",
    "\n",
    "# Function to extract email IDs from a given text\n",
    "def extract_email_ids(text):\n",
    "    # Regular expression to match email addresses\n",
    "    email_pattern = r'[a-zA-Z0-9._%+-]+@[a-zA-Z0-9.-]+\\.[a-zA-Z]{2,}'\n",
    "    \n",
    "    # Using re.findall to extract all matching email addresses\n",
    "    emails = re.findall(email_pattern, text)\n",
    "    return emails\n",
    "\n",
    "# Function to validate the user password\n",
    "def validate_password(password):\n",
    "    # Regular expression for password validation\n",
    "    password_pattern = r'^(?=.*[a-z])(?=.*[A-Z])(?=.*\\d)(?=.*[#@$_])[A-Za-z\\d#@$_]{6,16}$'\n",
    "    \n",
    "    # Check if the password matches the pattern\n",
    "    if re.match(password_pattern, password):\n",
    "        return True\n",
    "    else:\n",
    "        return False\n",
    "\n",
    "# Example usage:\n",
    "\n",
    "# 1. Extract Email IDs\n",
    "text = \"\"\"Hello, please contact us at support@example.com for any issues. \n",
    "          You can also reach out to john.doe@company.org for more details.\"\"\"\n",
    "\n",
    "emails = extract_email_ids(text)\n",
    "print(\"Extracted Email IDs:\")\n",
    "for email in emails:\n",
    "    print(email)\n",
    "\n",
    "# 2. Validate Password\n",
    "password = input(\"\\nEnter a password to validate: \")\n",
    "if validate_password(password):\n",
    "    print(\"Password is valid.\")\n",
    "else:\n",
    "    print(\"Password is invalid. It must meet the following criteria:\\n\"\n",
    "          \"- Length between 6 and 16 characters\\n\"\n",
    "          \"- At least one lowercase letter\\n\"\n",
    "          \"- At least one uppercase letter\\n\"\n",
    "          \"- At least one number\\n\"\n",
    "          \"- At least one special symbol (#, @, $, _)\")\n"
   ]
  }
 ],
 "metadata": {
  "kernelspec": {
   "display_name": "Python 3 (ipykernel)",
   "language": "python",
   "name": "python3"
  },
  "language_info": {
   "codemirror_mode": {
    "name": "ipython",
    "version": 3
   },
   "file_extension": ".py",
   "mimetype": "text/x-python",
   "name": "python",
   "nbconvert_exporter": "python",
   "pygments_lexer": "ipython3",
   "version": "3.12.1"
  }
 },
 "nbformat": 4,
 "nbformat_minor": 5
}
