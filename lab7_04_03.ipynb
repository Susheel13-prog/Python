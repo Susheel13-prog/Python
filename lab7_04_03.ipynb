{
 "cells": [
  {
   "cell_type": "code",
   "execution_count": null,
   "id": "5d685483-c328-4f0d-b349-701294e210a2",
   "metadata": {},
   "outputs": [
    {
     "name": "stdout",
     "output_type": "stream",
     "text": [
      "\n",
      "Queue Operations:\n",
      "1. Insert\n",
      "2. Delete\n",
      "3. Display\n",
      "4. Append\n",
      "5. Exit\n"
     ]
    }
   ],
   "source": [
    "# Queue without using Class\n",
    "\n",
    "# Initialize an empty list to represent the queue\n",
    "queue = []\n",
    "\n",
    "def insert(item):\n",
    "    \"\"\"Insert an item to the end of the queue (enqueue)\"\"\"\n",
    "    queue.append(item)\n",
    "\n",
    "def delete():\n",
    "    \"\"\"Delete an item from the front of the queue (dequeue)\"\"\"\n",
    "    if len(queue) > 0:\n",
    "        return queue.pop(0)  # Removes and returns the first element\n",
    "    else:\n",
    "        return \"Queue is empty!\"\n",
    "\n",
    "def display():\n",
    "    \"\"\"Display the queue\"\"\"\n",
    "    if len(queue) > 0:\n",
    "        return queue\n",
    "    else:\n",
    "        return \"Queue is empty!\"\n",
    "\n",
    "def append(item):\n",
    "    \"\"\"Append an item to the end of the queue\"\"\"\n",
    "    insert(item)  # In this case, append is the same as insert\n",
    "\n",
    "# Function to handle user interaction\n",
    "def menu():\n",
    "    while True:\n",
    "        print(\"\\nQueue Operations:\")\n",
    "        print(\"1. Insert\")\n",
    "        print(\"2. Delete\")\n",
    "        print(\"3. Display\")\n",
    "        print(\"4. Append\")\n",
    "        print(\"5. Exit\")\n",
    "        \n",
    "        choice = input(\"Enter your choice: \")\n",
    "\n",
    "        if choice == \"1\":\n",
    "            item = int(input(\"Enter the item to insert: \"))\n",
    "            insert(item)\n",
    "            print(f\"Item {item} inserted.\")\n",
    "        elif choice == \"2\":\n",
    "            deleted_item = delete()\n",
    "            print(f\"Deleted item: {deleted_item}\")\n",
    "        elif choice == \"3\":\n",
    "            print(f\"Queue: {display()}\")\n",
    "        elif choice == \"4\":\n",
    "            item = int(input(\"Enter the item to append: \"))\n",
    "            append(item)\n",
    "            print(f\"Item {item} appended.\")\n",
    "        elif choice == \"5\":\n",
    "            print(\"Exiting...\")\n",
    "            break\n",
    "        else:\n",
    "            print(\"Invalid choice! Please try again.\")\n",
    "\n",
    "# Run the menu\n",
    "menu()\n"
   ]
  },
  {
   "cell_type": "code",
   "execution_count": 1,
   "id": "a8ee7fd7-7825-48ab-aa51-88f7265356a2",
   "metadata": {},
   "outputs": [
    {
     "name": "stdout",
     "output_type": "stream",
     "text": [
      "\n",
      "Queue Operations:\n",
      "1. Insert\n",
      "2. Delete\n",
      "3. Display\n",
      "4. Append\n",
      "5. Exit\n"
     ]
    },
    {
     "name": "stdin",
     "output_type": "stream",
     "text": [
      "Enter your choice:  1\n",
      "Enter the item to insert:  12\n"
     ]
    },
    {
     "name": "stdout",
     "output_type": "stream",
     "text": [
      "Item 12 inserted.\n",
      "\n",
      "Queue Operations:\n",
      "1. Insert\n",
      "2. Delete\n",
      "3. Display\n",
      "4. Append\n",
      "5. Exit\n"
     ]
    },
    {
     "name": "stdin",
     "output_type": "stream",
     "text": [
      "Enter your choice:  1\n",
      "Enter the item to insert:  13\n"
     ]
    },
    {
     "name": "stdout",
     "output_type": "stream",
     "text": [
      "Item 13 inserted.\n",
      "\n",
      "Queue Operations:\n",
      "1. Insert\n",
      "2. Delete\n",
      "3. Display\n",
      "4. Append\n",
      "5. Exit\n"
     ]
    },
    {
     "name": "stdin",
     "output_type": "stream",
     "text": [
      "Enter your choice:  3\n"
     ]
    },
    {
     "name": "stdout",
     "output_type": "stream",
     "text": [
      "Queue: [12, 13]\n",
      "\n",
      "Queue Operations:\n",
      "1. Insert\n",
      "2. Delete\n",
      "3. Display\n",
      "4. Append\n",
      "5. Exit\n"
     ]
    },
    {
     "name": "stdin",
     "output_type": "stream",
     "text": [
      "Enter your choice:  5\n"
     ]
    },
    {
     "name": "stdout",
     "output_type": "stream",
     "text": [
      "Exiting...\n"
     ]
    }
   ],
   "source": [
    "# Queue using Class\n",
    "\n",
    "class Queue:\n",
    "    def __init__(self):\n",
    "        self.queue = []\n",
    "\n",
    "    def insert(self, item):\n",
    "        \"\"\"Insert an item to the end of the queue (enqueue)\"\"\"\n",
    "        self.queue.append(item)\n",
    "\n",
    "    def delete(self):\n",
    "        \"\"\"Delete an item from the front of the queue (dequeue)\"\"\"\n",
    "        if len(self.queue) > 0:\n",
    "            return self.queue.pop(0)  # Removes and returns the first element\n",
    "        else:\n",
    "            return \"Queue is empty!\"\n",
    "\n",
    "    def display(self):\n",
    "        \"\"\"Display the queue\"\"\"\n",
    "        if len(self.queue) > 0:\n",
    "            return self.queue\n",
    "        else:\n",
    "            return \"Queue is empty!\"\n",
    "\n",
    "    def append(self, item):\n",
    "        \"\"\"Append an item to the end of the queue\"\"\"\n",
    "        self.insert(item)  # In this case, append is the same as insert\n",
    "\n",
    "# Function to handle user interaction\n",
    "def menu():\n",
    "    q = Queue()\n",
    "    \n",
    "    while True:\n",
    "        print(\"\\nQueue Operations:\")\n",
    "        print(\"1. Insert\")\n",
    "        print(\"2. Delete\")\n",
    "        print(\"3. Display\")\n",
    "        print(\"4. Append\")\n",
    "        print(\"5. Exit\")\n",
    "        \n",
    "        choice = input(\"Enter your choice: \")\n",
    "\n",
    "        if choice == \"1\":\n",
    "            item = int(input(\"Enter the item to insert: \"))\n",
    "            q.insert(item)\n",
    "            print(f\"Item {item} inserted.\")\n",
    "        elif choice == \"2\":\n",
    "            deleted_item = q.delete()\n",
    "            print(f\"Deleted item: {deleted_item}\")\n",
    "        elif choice == \"3\":\n",
    "            print(f\"Queue: {q.display()}\")\n",
    "        elif choice == \"4\":\n",
    "            item = int(input(\"Enter the item to append: \"))\n",
    "            q.append(item)\n",
    "            print(f\"Item {item} appended.\")\n",
    "        elif choice == \"5\":\n",
    "            print(\"Exiting...\")\n",
    "            break\n",
    "        else:\n",
    "            print(\"Invalid choice! Please try again.\")\n",
    "\n",
    "# Run the menu\n",
    "\n",
    "\n"
   ]
  }
 ],
 "metadata": {
  "kernelspec": {
   "display_name": "Python 3 (ipykernel)",
   "language": "python",
   "name": "python3"
  },
  "language_info": {
   "codemirror_mode": {
    "name": "ipython",
    "version": 3
   },
   "file_extension": ".py",
   "mimetype": "text/x-python",
   "name": "python",
   "nbconvert_exporter": "python",
   "pygments_lexer": "ipython3",
   "version": "3.11.1"
  }
 },
 "nbformat": 4,
 "nbformat_minor": 5
}
