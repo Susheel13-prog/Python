{
 "cells": [
  {
   "cell_type": "code",
   "execution_count": null,
   "id": "44fec060-2b57-459a-a2de-60299df9dde6",
   "metadata": {},
   "outputs": [],
   "source": [
    "import numpy as np\n",
    "\n",
    "# Define the data types for the structured array\n",
    "dtype = [('name', 'U20'), ('height', 'f4'), ('class', 'U10')]\n",
    "\n",
    "# Create the structured array with sample data\n",
    "student_data = np.array([('John', 5.8, '10th'), ('Alice', 5.5, '9th'), ('Bob', 6.0, '11th')],\n",
    "                        dtype=dtype)\n",
    "\n",
    "# Sort the array by height (ascending order)\n",
    "sorted_student_data = np.sort(student_data, order='height')\n",
    "\n",
    "# Display the sorted array\n",
    "print(\"Sorted student data based on height:\")\n",
    "print(sorted_student_data)\n"
   ]
  },
  {
   "cell_type": "code",
   "execution_count": null,
   "id": "000f9ed5-653d-40cc-ab9a-5eaafa885fa1",
   "metadata": {},
   "outputs": [],
   "source": [
    "import pandas as pd\n",
    "\n",
    "# Load the churn data CSV file into a DataFrame\n",
    "churn_data = pd.read_csv(\"churn.csv\")\n",
    "\n",
    "# i) Count total number of duplicate records in the dataframe\n",
    "total_duplicates = churn_data.duplicated().sum()\n",
    "print(f\"Total number of duplicate records: {total_duplicates}\")\n",
    "\n",
    "# ii) Count the number of duplicate records in the churn dataframe based on the customerID column\n",
    "duplicates_customerID = churn_data.duplicated(subset='customerID').sum()\n",
    "print(f\"Number of duplicate records based on customerID: {duplicates_customerID}\")\n",
    "\n",
    "# iii) Count number of missing values in each column\n",
    "missing_values_per_column = churn_data.isnull().sum()\n",
    "print(f\"Missing values in each column:\\n{missing_values_per_column}\")\n",
    "\n",
    "# iv) Count the total number of missing values for the variable TotalCharges\n",
    "missing_total_charges = churn_data['TotalCharges'].isnull().sum()\n",
    "print(f\"Total missing values in TotalCharges: {missing_total_charges}\")\n",
    "\n",
    "# v) Average monthly charge paid by a customer for the services they have signed up for\n",
    "average_monthly_charge = churn_data['MonthlyCharges'].mean()\n",
    "print(f\"Average monthly charge: {average_monthly_charge:.2f}\")\n",
    "\n",
    "# vi) Display the records having '1@#' under the variable Dependents\n",
    "dependents_records = churn_data[churn_data['Dependents'] == '1@#']\n",
    "print(f\"Records with '1@#' under Dependents:\\n{dependents_records}\")\n",
    "\n",
    "# vii) Replace null values in churn dataframe by median value or by max count class category\n",
    "# Replace missing values in the 'TotalCharges' column with the median value\n",
    "churn_data['TotalCharges'].fillna(churn_data['TotalCharges'].median(), inplace=True)\n",
    "\n",
    "# Alternatively, we could replace missing values with the mode (max count category) of the 'Churn' column\n",
    "churn_data['Churn'].fillna(churn_data['Churn'].mode()[0], inplace=True)\n",
    "\n",
    "# Display the updated dataframe to verify replacements\n",
    "print(\"Updated churn data with missing values replaced:\")\n",
    "print(churn_data.head())\n"
   ]
  }
 ],
 "metadata": {
  "kernelspec": {
   "display_name": "Python 3 (ipykernel)",
   "language": "python",
   "name": "python3"
  },
  "language_info": {
   "codemirror_mode": {
    "name": "ipython",
    "version": 3
   },
   "file_extension": ".py",
   "mimetype": "text/x-python",
   "name": "python",
   "nbconvert_exporter": "python",
   "pygments_lexer": "ipython3",
   "version": "3.12.1"
  }
 },
 "nbformat": 4,
 "nbformat_minor": 5
}
