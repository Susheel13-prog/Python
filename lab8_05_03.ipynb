{
 "cells": [
  {
   "cell_type": "code",
   "execution_count": null,
   "id": "980d4249-3dc6-4323-b792-6e409fc9da4f",
   "metadata": {},
   "outputs": [],
   "source": [
    "# Files\n",
    "# Operation in Files: Read & Write\n",
    "# Functions: open "
   ]
  },
  {
   "cell_type": "code",
   "execution_count": 3,
   "id": "dec38907-2c54-4c4e-9e08-d5497f7bc4c6",
   "metadata": {},
   "outputs": [],
   "source": [
    "f = open(\"name.text\", \"w\")\n",
    "f.write(\"This is 1st message in the File\\n\")\n",
    "f.write(\"This is 2nd message\\n\")\n",
    "f.write(\"This is 3rd message\\n\")\n",
    "f.close()"
   ]
  },
  {
   "cell_type": "code",
   "execution_count": 25,
   "id": "11daf500-bab4-4d2c-accc-6773b852fab5",
   "metadata": {},
   "outputs": [
    {
     "name": "stdout",
     "output_type": "stream",
     "text": [
      "Hello World \n",
      "\n",
      "e in the File\n",
      "\n",
      "Hello World \n",
      "\n",
      "e in the File\n",
      "\n",
      "This is 2nd message\n",
      "\n",
      "This is 3rd message\n",
      "\n",
      "Hello World\n",
      "\n",
      "Hello World \n",
      "\n",
      "Hello World \n",
      "\n",
      "Hello World \n",
      "\n",
      "Hello World \n",
      "\n",
      "Hello World \n",
      "\n",
      "Hello World \n",
      "\n",
      "Hello World \n",
      "\n",
      "Hello World \n",
      "\n"
     ]
    }
   ],
   "source": [
    "f = open(\"name.text\", \"r+\")\n",
    "\n",
    "# Prints the complete content\n",
    "#for line in f:\n",
    "#    print(line)\n",
    "\n",
    "print(f.readline()) # Prints single line at a time\n",
    "print(f.readline())\n",
    "f.close()\n",
    "f = open(\"name.text\", \"r+\")\n",
    "f.write(\"Hello World \\n\")\n",
    "for line in f:\n",
    "    print(line)\n",
    "f.close()"
   ]
  },
  {
   "cell_type": "code",
   "execution_count": 34,
   "id": "beaeaed5-0461-4e6b-a2c0-f90c8f6d300d",
   "metadata": {},
   "outputs": [
    {
     "name": "stdout",
     "output_type": "stream",
     "text": [
      "{3, 4, 5, 6}\n",
      "['__and__', '__class__', '__class_getitem__', '__contains__', '__delattr__', '__dir__', '__doc__', '__eq__', '__format__', '__ge__', '__getattribute__', '__getstate__', '__gt__', '__hash__', '__iand__', '__init__', '__init_subclass__', '__ior__', '__isub__', '__iter__', '__ixor__', '__le__', '__len__', '__lt__', '__ne__', '__new__', '__or__', '__rand__', '__reduce__', '__reduce_ex__', '__repr__', '__ror__', '__rsub__', '__rxor__', '__setattr__', '__sizeof__', '__str__', '__sub__', '__subclasshook__', '__xor__', 'add', 'clear', 'copy', 'difference', 'difference_update', 'discard', 'intersection', 'intersection_update', 'isdisjoint', 'issubset', 'issuperset', 'pop', 'remove', 'symmetric_difference', 'symmetric_difference_update', 'union', 'update']\n",
      "{3, 4, 5}\n",
      "{3, 4, 5, 15}\n"
     ]
    }
   ],
   "source": [
    "# Better use for loop to access to print line by line\n",
    "# Set is NOT Ordered Collection of Elements\n",
    "# List is Ordered Collection of Elements\n",
    "\n",
    "\n",
    "s = set((6, 5, 4, 3, 3, 4, 3))\n",
    "print(s)\n",
    "print(dir(s))\n",
    "\n",
    "a = {3, 4, 5, 5, 4, 3}\n",
    "print(a)\n",
    "a.add(3)\n",
    "a.add(15)\n",
    "print(a)"
   ]
  },
  {
   "cell_type": "code",
   "execution_count": 48,
   "id": "086a1c07-c5d7-4cce-a61d-e1056d55fd82",
   "metadata": {},
   "outputs": [
    {
     "name": "stdout",
     "output_type": "stream",
     "text": [
      "{'Second line\\n', 'Third line\\n', 'First line\\n'}\n"
     ]
    }
   ],
   "source": [
    "# Read a file, delete the duplicated lines and add the unique line in another file\n",
    "f = open(\"page1.text\", \"w\")\n",
    "f.write(\"First line\\n\")\n",
    "f.write(\"Second line\\n\")\n",
    "f.write(\"Third line\\n\")\n",
    "f.write(\"First line\\n\")\n",
    "\n",
    "f.close()\n",
    "\n",
    "\n",
    "f = open(\"page1.text\", \"r+\")\n",
    "#print(f.readline())\n",
    "\n",
    "s = set()\n",
    "for line in f:\n",
    "    s.add(line)\n",
    "print(s)\n",
    "f.close()\n",
    "\n",
    "8\n",
    "for line in s:\n",
    "    f.add(line)\n",
    "f.close()\n",
    "\n"
   ]
  },
  {
   "cell_type": "code",
   "execution_count": 50,
   "id": "203788d7-685d-4a82-be80-f3e0ec98dde9",
   "metadata": {},
   "outputs": [
    {
     "name": "stdout",
     "output_type": "stream",
     "text": [
      "Min Value: 3\n",
      "Max Value: 19\n"
     ]
    }
   ],
   "source": [
    "# Find Min & Max in Array Elements\n",
    "\n",
    "# Sample array\n",
    "array = [12, 4, 7, 19, 3, 8]\n",
    "\n",
    "# Initialize min and max values with the first element of the array\n",
    "min_value = array[0]\n",
    "max_value = array[0]\n",
    "\n",
    "# Iterate through the array and update min and max accordingly\n",
    "for num in array:\n",
    "    if num < min_value:\n",
    "        min_value = num\n",
    "    if num > max_value:\n",
    "        max_value = num\n",
    "\n",
    "# Print the results\n",
    "print(\"Min Value:\", min_value)\n",
    "print(\"Max Value:\", max_value)\n"
   ]
  },
  {
   "cell_type": "code",
   "execution_count": 53,
   "id": "7f60f716-26c6-4065-b72a-4abc101ee5a0",
   "metadata": {},
   "outputs": [
    {
     "name": "stdout",
     "output_type": "stream",
     "text": [
      "Matrix stored in List (L):\n",
      "[1, 2, 3, 4, 5]\n",
      "[6, 7, 8, 9, 10]\n",
      "[11, 12, 13, 14, 15]\n",
      "[16, 17, 18, 19, 20]\n",
      "\n",
      "Matrix stored in Dictionary (D):\n",
      "[1, 2, 3, 4, 5]\n",
      "[6, 7, 8, 9, 10]\n",
      "[11, 12, 13, 14, 15]\n",
      "[16, 17, 18, 19, 20]\n",
      "\n",
      "L[2][3] = 14\n",
      "D[2][3] = 14\n"
     ]
    }
   ],
   "source": [
    "# Demonstrate using a python prog. to store the elements of a matrix of dimension 4x5 in a List & Dictionary objects. Support the retrival of elements using Row & Col. indices as shown below\n",
    "\n",
    "#L[ROW][COL] = ?\n",
    "#D[ROW][COL] = ?\n",
    "#Where L & D are llist and Dictionary respectively\n",
    "\n",
    "# Define a 4x5 matrix\n",
    "matrix = [\n",
    "    [1, 2, 3, 4, 5],\n",
    "    [6, 7, 8, 9, 10],\n",
    "    [11, 12, 13, 14, 15],\n",
    "    [16, 17, 18, 19, 20]\n",
    "]\n",
    "\n",
    "# Storing the matrix in a List (L)\n",
    "L = matrix  # The List L directly holds the matrix\n",
    "\n",
    "# Storing the matrix in a Dictionary (D)\n",
    "D = {}  # Initialize an empty dictionary\n",
    "\n",
    "# Populate the dictionary with row-col keys\n",
    "for row in range(4):  # Iterate through rows (0 to 3)\n",
    "    D[row] = {}  # Initialize a sub-dictionary for each row\n",
    "    for col in range(5):  # Iterate through columns (0 to 4)\n",
    "        D[row][col] = matrix[row][col]  # Set the value for each (row, col) in dictionary\n",
    "\n",
    "# Print the matrix stored in the List (L)\n",
    "print(\"Matrix stored in List (L):\")\n",
    "for row in L:\n",
    "    print(row)\n",
    "\n",
    "# Print the matrix stored in the Dictionary (D)\n",
    "print(\"\\nMatrix stored in Dictionary (D):\")\n",
    "for row in D:\n",
    "    print([D[row][col] for col in range(5)])\n",
    "\n",
    "# Retrieval using List (L)\n",
    "row, col = 2, 3  # Example indices (Row 2, Column 3)\n",
    "print(f\"\\nL[{row}][{col}] = {L[row][col]}\")  # Using List\n",
    "\n",
    "# Retrieval using Dictionary (D)\n",
    "print(f\"D[{row}][{col}] = {D[row][col]}\")  # Using Dictionary\n"
   ]
  }
 ],
 "metadata": {
  "kernelspec": {
   "display_name": "Python 3 (ipykernel)",
   "language": "python",
   "name": "python3"
  },
  "language_info": {
   "codemirror_mode": {
    "name": "ipython",
    "version": 3
   },
   "file_extension": ".py",
   "mimetype": "text/x-python",
   "name": "python",
   "nbconvert_exporter": "python",
   "pygments_lexer": "ipython3",
   "version": "3.11.1"
  }
 },
 "nbformat": 4,
 "nbformat_minor": 5
}
