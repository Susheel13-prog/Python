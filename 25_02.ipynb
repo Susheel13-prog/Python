{
 "cells": [
  {
   "cell_type": "code",
   "execution_count": 7,
   "id": "f5877d86-cdea-48b9-91c0-0e338b62de10",
   "metadata": {},
   "outputs": [
    {
     "name": "stdout",
     "output_type": "stream",
     "text": [
      "1. Push  2. Pop  3. Display  4. Exit\n"
     ]
    },
    {
     "name": "stdin",
     "output_type": "stream",
     "text": [
      "Enter your choice:  1\n",
      "Enter ele to be pushed:  12\n"
     ]
    },
    {
     "name": "stdout",
     "output_type": "stream",
     "text": [
      "1. Push  2. Pop  3. Display  4. Exit\n"
     ]
    },
    {
     "name": "stdin",
     "output_type": "stream",
     "text": [
      "Enter your choice:  1\n",
      "Enter ele to be pushed:  23\n"
     ]
    },
    {
     "name": "stdout",
     "output_type": "stream",
     "text": [
      "1. Push  2. Pop  3. Display  4. Exit\n"
     ]
    },
    {
     "name": "stdin",
     "output_type": "stream",
     "text": [
      "Enter your choice:  3\n"
     ]
    },
    {
     "name": "stdout",
     "output_type": "stream",
     "text": [
      "['12', '23']\n",
      "1. Push  2. Pop  3. Display  4. Exit\n"
     ]
    },
    {
     "name": "stdin",
     "output_type": "stream",
     "text": [
      "Enter your choice:  4\n"
     ]
    }
   ],
   "source": [
    "class Stack:\n",
    "    def __init__(self, max=100):\n",
    "        self.stack = []\n",
    "        self.maximum = max\n",
    "\n",
    "    def push(self, element):\n",
    "        if len(self.stack) == self.maximum:\n",
    "            print(\"Stack Overflow\")\n",
    "        else:\n",
    "            self.stack.append(element)\n",
    "\n",
    "    def pop(self):\n",
    "        if len(self.stack) == 0:\n",
    "            print(\"Stack is Empty\")\n",
    "        else:\n",
    "            return self.stack.pop()\n",
    "\n",
    "    def display(self):\n",
    "        if len(self.stack) == 0:\n",
    "            print(\"Stack is Empty\")\n",
    "        else:\n",
    "            print(self.stack)\n",
    "\n",
    "stack = Stack(5)\n",
    "while True:\n",
    "    print(\"1. Push  2. Pop  3. Display  4. Exit\")\n",
    "    choice = int(input(\"Enter your choice: \"))\n",
    "    if choice == 1:\n",
    "        element = input(\"Enter ele to be pushed: \")\n",
    "        stack.push(element)\n",
    "    elif choice == 2:\n",
    "        print(\"Popped Element\", element)\n",
    "    elif choice == 3:\n",
    "        stack.display()\n",
    "    else:\n",
    "        break"
   ]
  },
  {
   "cell_type": "code",
   "execution_count": 9,
   "id": "ffc78d03-0daf-42cf-a5a0-680c26734c03",
   "metadata": {},
   "outputs": [],
   "source": [
    "# 1. Write a prog. to check whether the no. is prime or not\n",
    "# 2. Write a prog. to calc. the length of a string without using built in func. & check whether it is a palindrome or not\n",
    "# 3. Write a prog. func. that accpets a setence from a user abd counts the no. of worlds in the sentence\n",
    "# 4. Write a prog. to sum all the numbers in a list\n",
    "# 5. Write a prog. to store a number of people in a dic. & display the phone no. of the reqested person\n"
   ]
  },
  {
   "cell_type": "code",
   "execution_count": 3,
   "id": "e010a810-c99d-4147-84fe-266d3c11016a",
   "metadata": {},
   "outputs": [
    {
     "name": "stdout",
     "output_type": "stream",
     "text": [
      "Max =  8\n",
      "Min =  1\n"
     ]
    }
   ],
   "source": [
    "# Find Min & Max element in an array of int. using Single Loop\n",
    "a = [2, 5, 8, 2, 7, 2, 1]\n",
    "max = a[0]\n",
    "min = a[0]\n",
    "i=1\n",
    "while i < len(a) :\n",
    "    if max < a[i]:\n",
    "        max = a[i]\n",
    "    if min > a[i]:\n",
    "        min = a[i]\n",
    "    i+=1\n",
    "print(\"Max = \", max)\n",
    "print(\"Min = \", min)"
   ]
  },
  {
   "cell_type": "code",
   "execution_count": 7,
   "id": "8e0c9c42-d958-4d97-801e-c596607c8c20",
   "metadata": {},
   "outputs": [
    {
     "name": "stdout",
     "output_type": "stream",
     "text": [
      "['AZ112340', 'R4137871', 'HR105294']\n"
     ]
    }
   ],
   "source": [
    "# UniqueCode_List = ['AZ01-1234', 'R137-8714', 'HR05-2941']\n",
    "# O/P ['AZ3412', 'R7148', 'HR4129']\n",
    "# Perform Rotation(Shift char. from Right to Left with thier respective times)\n",
    "\n",
    "def rotate_code(code):\n",
    "    # Split the code into letters and numbers (ignoring hyphen)\n",
    "    letters = ''.join([char for char in code if char.isalpha()])\n",
    "    numbers = ''.join([char for char in code if char.isdigit()])\n",
    "    \n",
    "    # The number before the hyphen (two digits) indicates the number of shifts\n",
    "    shift = int(numbers[:2])  # Only take the first two digits for the shift\n",
    "    \n",
    "    # Perform the rotation (left shift) on the numbers\n",
    "    rotated_numbers = numbers[shift % len(numbers):] + numbers[:shift % len(numbers)]\n",
    "    \n",
    "    # Combine the letters and the rotated numbers\n",
    "    return letters + rotated_numbers\n",
    "\n",
    "# Input list of codes\n",
    "UniqueCode_List = ['AZ01-1234', 'R137-8714', 'HR05-2941']\n",
    "\n",
    "# Perform the rotation for each code\n",
    "result = [rotate_code(code.replace(\"-\", \"\")) for code in UniqueCode_List]\n",
    "\n",
    "# Output the result\n",
    "print(result)\n",
    " "
   ]
  }
 ],
 "metadata": {
  "kernelspec": {
   "display_name": "Python 3 (ipykernel)",
   "language": "python",
   "name": "python3"
  },
  "language_info": {
   "codemirror_mode": {
    "name": "ipython",
    "version": 3
   },
   "file_extension": ".py",
   "mimetype": "text/x-python",
   "name": "python",
   "nbconvert_exporter": "python",
   "pygments_lexer": "ipython3",
   "version": "3.11.1"
  }
 },
 "nbformat": 4,
 "nbformat_minor": 5
}
