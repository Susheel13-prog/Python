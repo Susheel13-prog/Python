{
 "cells": [
  {
   "cell_type": "code",
   "execution_count": 1,
   "id": "20383d97-b376-4c2c-ae82-56f1366a279c",
   "metadata": {},
   "outputs": [
    {
     "name": "stdin",
     "output_type": "stream",
     "text": [
      "Enter the base of the triangle:  5\n",
      "Enter the height of the triangle:  2\n"
     ]
    },
    {
     "name": "stdout",
     "output_type": "stream",
     "text": [
      "The area of the triangle is: 5.0\n"
     ]
    }
   ],
   "source": [
    "# Base class Polygon\n",
    "class Polygon:\n",
    "    def __init__(self):\n",
    "        # This constructor is used to initialize any common attributes if needed\n",
    "        pass\n",
    "\n",
    "    # Method to find area (this will be overridden in the derived class)\n",
    "    def findArea(self):\n",
    "        raise NotImplementedError(\"Subclass must implement abstract method\")\n",
    "\n",
    "# Derived class Triangle\n",
    "class Triangle(Polygon):\n",
    "    def __init__(self, base, height):\n",
    "        # Initialize base and height specific to Triangle\n",
    "        self.base = base\n",
    "        self.height = height\n",
    "\n",
    "    # Override the findArea method to calculate area of triangle\n",
    "    def findArea(self):\n",
    "        return 0.5 * self.base * self.height\n",
    "\n",
    "# Example usage:\n",
    "# Get user input for the base and height of the triangle\n",
    "try:\n",
    "    base = float(input(\"Enter the base of the triangle: \"))  # Get base as a float\n",
    "    height = float(input(\"Enter the height of the triangle: \"))  # Get height as a float\n",
    "    \n",
    "    # Creating a triangle object with user inputs\n",
    "    triangle = Triangle(base, height)\n",
    "\n",
    "    # Calling the findArea method inherited from Polygon and overridden in Triangle\n",
    "    area = triangle.findArea()\n",
    "    print(f\"The area of the triangle is: {area}\")\n",
    "except ValueError:\n",
    "    print(\"Invalid input. Please enter numerical values for base and height.\")\n"
   ]
  }
 ],
 "metadata": {
  "kernelspec": {
   "display_name": "Python 3 (ipykernel)",
   "language": "python",
   "name": "python3"
  },
  "language_info": {
   "codemirror_mode": {
    "name": "ipython",
    "version": 3
   },
   "file_extension": ".py",
   "mimetype": "text/x-python",
   "name": "python",
   "nbconvert_exporter": "python",
   "pygments_lexer": "ipython3",
   "version": "3.12.1"
  }
 },
 "nbformat": 4,
 "nbformat_minor": 5
}
